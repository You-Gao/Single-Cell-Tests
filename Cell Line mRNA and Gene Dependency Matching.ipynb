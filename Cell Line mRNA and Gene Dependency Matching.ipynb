{
 "cells": [
  {
   "cell_type": "code",
   "execution_count": 2,
   "metadata": {},
   "outputs": [],
   "source": [
    "import pandas as pd "
   ]
  },
  {
   "attachments": {},
   "cell_type": "markdown",
   "metadata": {},
   "source": [
    "### Data\n",
    "* mRNA_df (1408, 19194) | OmicsExpressionProteinCodingGenesTPMLogp1.csv\n",
    "    * Depmap ID\n",
    "* gene_dependency_df (1095, 17932) | CRISPRGeneDependency.csv\n",
    "    * ModelID\n",
    "* cells_df (103, 6) | Depmap Melanoma Cell Lines.csv\n",
    "    * Depmap Id"
   ]
  },
  {
   "cell_type": "code",
   "execution_count": 3,
   "metadata": {},
   "outputs": [
    {
     "name": "stdout",
     "output_type": "stream",
     "text": [
      "(1408, 19194)\n"
     ]
    }
   ],
   "source": [
    "# mRNA\n",
    "mRNA_df = pd.read_csv(r'C:\\Users\\commo\\OneDrive - University of Virginia\\School\\STEM\\BME\\BME 4700 - Systems Bioengineering\\CCLE Chromatin Analysis\\Raw Data\\OmicsExpressionProteinCodingGenesTPMLogp1.csv')\n",
    "print(mRNA_df.shape)\n"
   ]
  },
  {
   "cell_type": "code",
   "execution_count": 4,
   "metadata": {},
   "outputs": [
    {
     "name": "stdout",
     "output_type": "stream",
     "text": [
      "(1095, 17932)\n"
     ]
    }
   ],
   "source": [
    "# Gene Dependency \n",
    "gene_dependency_df = pd.read_csv(r'C:\\Users\\commo\\OneDrive - University of Virginia\\School\\STEM\\BME\\BME 4700 - Systems Bioengineering\\CCLE Chromatin Analysis\\Raw Data\\CRISPRGeneDependency.csv')\n",
    "print(gene_dependency_df.shape)\n"
   ]
  },
  {
   "cell_type": "code",
   "execution_count": 5,
   "metadata": {},
   "outputs": [
    {
     "name": "stdout",
     "output_type": "stream",
     "text": [
      "(1078, 17454)\n"
     ]
    }
   ],
   "source": [
    "# Gene Effect\n",
    "gene_effect_df = pd.read_csv(r'C:\\Users\\commo\\OneDrive - University of Virginia\\School\\STEM\\BME\\BME 4700 - Systems Bioengineering\\CCLE Chromatin Analysis\\Raw Data\\CRISPRGeneEffect.csv')\n",
    "print(gene_effect_df.shape)"
   ]
  },
  {
   "cell_type": "code",
   "execution_count": 6,
   "metadata": {},
   "outputs": [
    {
     "name": "stdout",
     "output_type": "stream",
     "text": [
      "(103, 6)\n"
     ]
    }
   ],
   "source": [
    "# DepMap Melanome Cell Lines\n",
    "cells_df = pd.read_csv(r'C:\\Users\\commo\\OneDrive - University of Virginia\\School\\STEM\\BME\\BME 4700 - Systems Bioengineering\\CCLE Chromatin Analysis\\Raw Data\\Depmap Melanoma Cell Lines.csv')\n",
    "cells_df.drop(columns=['Unnamed: 0'], inplace=True)\n",
    "print(cells_df.shape)\n"
   ]
  },
  {
   "attachments": {},
   "cell_type": "markdown",
   "metadata": {},
   "source": [
    "### ID Matching\n",
    "\n",
    "* 60 Cell Lines match in both, limited by gene dependency data"
   ]
  },
  {
   "cell_type": "code",
   "execution_count": 9,
   "metadata": {},
   "outputs": [
    {
     "name": "stdout",
     "output_type": "stream",
     "text": [
      "(1003, 36648)\n"
     ]
    }
   ],
   "source": [
    "# Matches mRNA_df and gene_dependency_df\n",
    "# SWAP THIS TO RUN GENE EFFECT\n",
    "matches_df = pd.merge(mRNA_df, gene_effect_df, left_on='Depmap ID', right_on = 'Unnamed: 0', how='inner')\n",
    "print(matches_df.shape)"
   ]
  },
  {
   "cell_type": "code",
   "execution_count": 10,
   "metadata": {},
   "outputs": [
    {
     "name": "stdout",
     "output_type": "stream",
     "text": [
      "(60, 36654)\n"
     ]
    }
   ],
   "source": [
    "# Matches matches_df and cells_df\n",
    "cell_matches_df = pd.merge(matches_df, cells_df, left_on='Depmap ID', right_on = 'Depmap Id', how='inner')\n",
    "print(cell_matches_df.shape)"
   ]
  },
  {
   "attachments": {},
   "cell_type": "markdown",
   "metadata": {},
   "source": [
    "### Save Cell Matches"
   ]
  },
  {
   "attachments": {},
   "cell_type": "markdown",
   "metadata": {},
   "source": [
    "#### Preprocessing"
   ]
  },
  {
   "cell_type": "code",
   "execution_count": 11,
   "metadata": {},
   "outputs": [
    {
     "name": "stdout",
     "output_type": "stream",
     "text": [
      "(60, 19194)\n",
      "(60, 17932)\n",
      "(60, 17454)\n"
     ]
    }
   ],
   "source": [
    "# Index into mRNA by list(cell_matches_df['Depmap ID'])\n",
    "depmap_mRNA_df = mRNA_df[mRNA_df['Depmap ID'].isin(cell_matches_df['Depmap ID'])]\n",
    "print(depmap_mRNA_df.shape)\n",
    "\n",
    "# Index into gene_dependency by list(cell_matches_df['Depmap ID'])\n",
    "depmap_gene_dependency_df = gene_dependency_df[gene_dependency_df['ModelID'].isin(cell_matches_df['Depmap ID'])]\n",
    "print(depmap_gene_dependency_df.shape)\n",
    "\n",
    "# Index into gene_effect by list(cell_matches_df['Depmap ID'])\n",
    "depmap_gene_effect_df = gene_effect_df[gene_effect_df['Unnamed: 0'].isin(cell_matches_df['Depmap ID'])]\n",
    "print(depmap_gene_effect_df.shape)"
   ]
  },
  {
   "cell_type": "code",
   "execution_count": 12,
   "metadata": {},
   "outputs": [
    {
     "name": "stderr",
     "output_type": "stream",
     "text": [
      "C:\\Users\\commo\\AppData\\Local\\Temp\\ipykernel_32584\\4228931511.py:2: FutureWarning: The default value of regex will change from True to False in a future version.\n",
      "  depmap_gene_dependency_df.columns = depmap_gene_dependency_df.columns.str.replace(r\" \\(.*\\)\",\"\")\n",
      "C:\\Users\\commo\\AppData\\Local\\Temp\\ipykernel_32584\\4228931511.py:3: FutureWarning: The default value of regex will change from True to False in a future version.\n",
      "  depmap_mRNA_df.columns = depmap_mRNA_df.columns.str.replace(r\" \\(.*\\)\",\"\")\n",
      "C:\\Users\\commo\\AppData\\Local\\Temp\\ipykernel_32584\\4228931511.py:4: FutureWarning: The default value of regex will change from True to False in a future version.\n",
      "  depmap_gene_effect_df.columns = depmap_gene_effect_df.columns.str.replace(r\" \\(.*\\)\",\"\")\n"
     ]
    }
   ],
   "source": [
    "# Remove (xxxx) from columns\n",
    "depmap_gene_dependency_df.columns = depmap_gene_dependency_df.columns.str.replace(r\" \\(.*\\)\",\"\")\n",
    "depmap_mRNA_df.columns = depmap_mRNA_df.columns.str.replace(r\" \\(.*\\)\",\"\")\n",
    "depmap_gene_effect_df.columns = depmap_gene_effect_df.columns.str.replace(r\" \\(.*\\)\",\"\")\n"
   ]
  },
  {
   "cell_type": "code",
   "execution_count": 13,
   "metadata": {},
   "outputs": [
    {
     "name": "stderr",
     "output_type": "stream",
     "text": [
      "C:\\Users\\commo\\AppData\\Local\\Temp\\ipykernel_32584\\3038015071.py:5: SettingWithCopyWarning: \n",
      "A value is trying to be set on a copy of a slice from a DataFrame.\n",
      "Try using .loc[row_indexer,col_indexer] = value instead\n",
      "\n",
      "See the caveats in the documentation: https://pandas.pydata.org/pandas-docs/stable/user_guide/indexing.html#returning-a-view-versus-a-copy\n",
      "  depmap_gene_dependency_df['ModelID'] = depmap_gene_dependency_df['ModelID'].map(id_cell_dict)\n",
      "C:\\Users\\commo\\AppData\\Local\\Temp\\ipykernel_32584\\3038015071.py:6: SettingWithCopyWarning: \n",
      "A value is trying to be set on a copy of a slice from a DataFrame.\n",
      "Try using .loc[row_indexer,col_indexer] = value instead\n",
      "\n",
      "See the caveats in the documentation: https://pandas.pydata.org/pandas-docs/stable/user_guide/indexing.html#returning-a-view-versus-a-copy\n",
      "  depmap_mRNA_df['Depmap ID'] = depmap_mRNA_df['Depmap ID'].map(id_cell_dict)\n",
      "C:\\Users\\commo\\AppData\\Local\\Temp\\ipykernel_32584\\3038015071.py:7: SettingWithCopyWarning: \n",
      "A value is trying to be set on a copy of a slice from a DataFrame.\n",
      "Try using .loc[row_indexer,col_indexer] = value instead\n",
      "\n",
      "See the caveats in the documentation: https://pandas.pydata.org/pandas-docs/stable/user_guide/indexing.html#returning-a-view-versus-a-copy\n",
      "  depmap_gene_effect_df['Unnamed: 0'] = depmap_gene_effect_df['Unnamed: 0'].map(id_cell_dict)\n"
     ]
    }
   ],
   "source": [
    "# Remap Depmap ID to Cell Line Name with depmap_cells_df as a dictionary\n",
    "id_cell_dict = dict(zip(cells_df['Depmap Id'], cells_df['Cell Line']))\n",
    "\n",
    "# Remap Depmap ID to Cell Line Name with depmap_cells_df as a dictionary\n",
    "depmap_gene_dependency_df['ModelID'] = depmap_gene_dependency_df['ModelID'].map(id_cell_dict)\n",
    "depmap_mRNA_df['Depmap ID'] = depmap_mRNA_df['Depmap ID'].map(id_cell_dict)\n",
    "depmap_gene_effect_df['Unnamed: 0'] = depmap_gene_effect_df['Unnamed: 0'].map(id_cell_dict)"
   ]
  },
  {
   "cell_type": "code",
   "execution_count": 15,
   "metadata": {},
   "outputs": [],
   "source": [
    "# Index to retrieve cell metadata\n",
    "depmap_cells_df = cell_matches_df.iloc[:, len(cell_matches_df.columns)-5:]"
   ]
  },
  {
   "cell_type": "code",
   "execution_count": 16,
   "metadata": {},
   "outputs": [
    {
     "name": "stderr",
     "output_type": "stream",
     "text": [
      "C:\\Users\\commo\\AppData\\Local\\Temp\\ipykernel_32584\\710923112.py:2: SettingWithCopyWarning: \n",
      "A value is trying to be set on a copy of a slice from a DataFrame\n",
      "\n",
      "See the caveats in the documentation: https://pandas.pydata.org/pandas-docs/stable/user_guide/indexing.html#returning-a-view-versus-a-copy\n",
      "  depmap_gene_dependency_df.sort_values(by=['ModelID'], inplace=True)\n",
      "C:\\Users\\commo\\AppData\\Local\\Temp\\ipykernel_32584\\710923112.py:3: SettingWithCopyWarning: \n",
      "A value is trying to be set on a copy of a slice from a DataFrame\n",
      "\n",
      "See the caveats in the documentation: https://pandas.pydata.org/pandas-docs/stable/user_guide/indexing.html#returning-a-view-versus-a-copy\n",
      "  depmap_mRNA_df.sort_values(by=['Depmap ID'], inplace=True)\n",
      "C:\\Users\\commo\\AppData\\Local\\Temp\\ipykernel_32584\\710923112.py:4: SettingWithCopyWarning: \n",
      "A value is trying to be set on a copy of a slice from a DataFrame\n",
      "\n",
      "See the caveats in the documentation: https://pandas.pydata.org/pandas-docs/stable/user_guide/indexing.html#returning-a-view-versus-a-copy\n",
      "  depmap_gene_effect_df.sort_values(by=['Unnamed: 0'], inplace=True)\n",
      "C:\\Users\\commo\\AppData\\Local\\Temp\\ipykernel_32584\\710923112.py:8: SettingWithCopyWarning: \n",
      "A value is trying to be set on a copy of a slice from a DataFrame\n",
      "\n",
      "See the caveats in the documentation: https://pandas.pydata.org/pandas-docs/stable/user_guide/indexing.html#returning-a-view-versus-a-copy\n",
      "  depmap_gene_dependency_df.rename(columns={'ModelID':'Cell Line'}, inplace=True)\n",
      "C:\\Users\\commo\\AppData\\Local\\Temp\\ipykernel_32584\\710923112.py:9: SettingWithCopyWarning: \n",
      "A value is trying to be set on a copy of a slice from a DataFrame\n",
      "\n",
      "See the caveats in the documentation: https://pandas.pydata.org/pandas-docs/stable/user_guide/indexing.html#returning-a-view-versus-a-copy\n",
      "  depmap_mRNA_df.rename(columns={'Depmap ID':'Cell Line'}, inplace=True)\n",
      "C:\\Users\\commo\\AppData\\Local\\Temp\\ipykernel_32584\\710923112.py:10: SettingWithCopyWarning: \n",
      "A value is trying to be set on a copy of a slice from a DataFrame\n",
      "\n",
      "See the caveats in the documentation: https://pandas.pydata.org/pandas-docs/stable/user_guide/indexing.html#returning-a-view-versus-a-copy\n",
      "  depmap_gene_effect_df.rename(columns={'Unnamed: 0':'Cell Line'}, inplace=True)\n"
     ]
    }
   ],
   "source": [
    "# Sort by Cell Line Name\n",
    "depmap_gene_dependency_df.sort_values(by=['ModelID'], inplace=True)\n",
    "depmap_mRNA_df.sort_values(by=['Depmap ID'], inplace=True)\n",
    "depmap_gene_effect_df.sort_values(by=['Unnamed: 0'], inplace=True)\n",
    "depmap_cells_df.sort_values(by=['Cell Line'], inplace=True)\n",
    "\n",
    "# Rename Columns\n",
    "depmap_gene_dependency_df.rename(columns={'ModelID':'Cell Line'}, inplace=True)\n",
    "depmap_mRNA_df.rename(columns={'Depmap ID':'Cell Line'}, inplace=True)\n",
    "depmap_gene_effect_df.rename(columns={'Unnamed: 0':'Cell Line'}, inplace=True)\n"
   ]
  },
  {
   "cell_type": "code",
   "execution_count": 89,
   "metadata": {},
   "outputs": [
    {
     "name": "stderr",
     "output_type": "stream",
     "text": [
      "C:\\Users\\commo\\AppData\\Local\\Temp\\ipykernel_22936\\99317108.py:1: FutureWarning: The default value of regex will change from True to False in a future version.\n",
      "  mRNA_df.columns = depmap_mRNA_df.columns.str.replace(r\" \\(.*\\)\",\"\")\n"
     ]
    }
   ],
   "source": [
    "mRNA_df.columns = depmap_mRNA_df.columns.str.replace(r\" \\(.*\\)\",\"\")\n"
   ]
  },
  {
   "cell_type": "code",
   "execution_count": 91,
   "metadata": {},
   "outputs": [],
   "source": [
    "mRNA_df[1:].to_csv('Depmap Pancancer mRNA.csv')"
   ]
  },
  {
   "attachments": {},
   "cell_type": "markdown",
   "metadata": {},
   "source": [
    "#### Saves"
   ]
  },
  {
   "cell_type": "code",
   "execution_count": 83,
   "metadata": {},
   "outputs": [],
   "source": [
    "# Save to CSV\n",
    "depmap_cells_df.to_csv('Depmap Melanoma Cells.csv')\n",
    "depmap_gene_dependency_df.to_csv('Depmap Melanoma Gene Dependency.csv')\n",
    "depmap_mRNA_df.to_csv('Depmap Melanoma mRNA.csv')\n"
   ]
  },
  {
   "cell_type": "code",
   "execution_count": 17,
   "metadata": {},
   "outputs": [],
   "source": [
    "depmap_gene_effect_df.to_csv('Depmap Melanoma Gene Effect.csv')"
   ]
  }
 ],
 "metadata": {
  "kernelspec": {
   "display_name": "Python 3",
   "language": "python",
   "name": "python3"
  },
  "language_info": {
   "codemirror_mode": {
    "name": "ipython",
    "version": 3
   },
   "file_extension": ".py",
   "mimetype": "text/x-python",
   "name": "python",
   "nbconvert_exporter": "python",
   "pygments_lexer": "ipython3",
   "version": "3.10.8"
  },
  "orig_nbformat": 4
 },
 "nbformat": 4,
 "nbformat_minor": 2
}
