{
 "cells": [
  {
   "cell_type": "code",
   "execution_count": 61,
   "metadata": {},
   "outputs": [],
   "source": [
    "import pandas as pd "
   ]
  },
  {
   "attachments": {},
   "cell_type": "markdown",
   "metadata": {},
   "source": [
    "### Data\n",
    "* mRNA_df (1408, 19194) | OmicsExpressionProteinCodingGenesTPMLogp1.csv\n",
    "    * Depmap ID\n",
    "* gene_dependency_df (1095, 17932) | CRISPRGeneDependency.csv\n",
    "    * ModelID\n",
    "* cells_df (103, 6) | Depmap Melanoma Cell Lines.csv\n",
    "    * Depmap Id"
   ]
  },
  {
   "cell_type": "code",
   "execution_count": 62,
   "metadata": {},
   "outputs": [
    {
     "name": "stdout",
     "output_type": "stream",
     "text": [
      "(1408, 19194)\n"
     ]
    }
   ],
   "source": [
    "# mRNA\n",
    "mRNA_df = pd.read_csv(r'C:\\Users\\commo\\OneDrive - University of Virginia\\School\\STEM\\BME\\Fallahi Sichani Lab Work\\CCLE Chromatin Analysis\\Raw Data\\OmicsExpressionProteinCodingGenesTPMLogp1.csv')\n",
    "print(mRNA_df.shape)\n"
   ]
  },
  {
   "cell_type": "code",
   "execution_count": 63,
   "metadata": {},
   "outputs": [
    {
     "name": "stdout",
     "output_type": "stream",
     "text": [
      "(1095, 17932)\n"
     ]
    }
   ],
   "source": [
    "# Gene Dependency \n",
    "gene_dependency_df = pd.read_csv(r'C:\\Users\\commo\\OneDrive - University of Virginia\\School\\STEM\\BME\\Fallahi Sichani Lab Work\\CCLE Chromatin Analysis\\Raw Data\\CRISPRGeneDependency.csv')\n",
    "print(gene_dependency_df.shape)\n"
   ]
  },
  {
   "cell_type": "code",
   "execution_count": 64,
   "metadata": {},
   "outputs": [
    {
     "name": "stdout",
     "output_type": "stream",
     "text": [
      "(1078, 17454)\n"
     ]
    }
   ],
   "source": [
    "# Gene Effect\n",
    "gene_effect_df = pd.read_csv(r'C:\\Users\\commo\\OneDrive - University of Virginia\\School\\STEM\\BME\\Fallahi Sichani Lab Work\\CCLE Chromatin Analysis\\Raw Data\\CRISPRGeneEffect.csv')\n",
    "print(gene_effect_df.shape)"
   ]
  },
  {
   "cell_type": "code",
   "execution_count": 65,
   "metadata": {},
   "outputs": [
    {
     "name": "stdout",
     "output_type": "stream",
     "text": [
      "(80, 10)\n"
     ]
    }
   ],
   "source": [
    "# DepMap Melanome Cell Lines\n",
    "cells_df = pd.read_csv(\"Melanoma Depmap Cell Lines Edit.csv\")\n",
    "#cells_df.drop(columns=['Unnamed: 0'], inplace=True)\n",
    "print(cells_df.shape)\n",
    "cells_df.rename(columns={'CellLine':'Cell Line', 'Barcode':'Depmap ID'}, inplace=True)\n"
   ]
  },
  {
   "cell_type": "code",
   "execution_count": 66,
   "metadata": {},
   "outputs": [
    {
     "data": {
      "text/html": [
       "<div>\n",
       "<style scoped>\n",
       "    .dataframe tbody tr th:only-of-type {\n",
       "        vertical-align: middle;\n",
       "    }\n",
       "\n",
       "    .dataframe tbody tr th {\n",
       "        vertical-align: top;\n",
       "    }\n",
       "\n",
       "    .dataframe thead th {\n",
       "        text-align: right;\n",
       "    }\n",
       "</style>\n",
       "<table border=\"1\" class=\"dataframe\">\n",
       "  <thead>\n",
       "    <tr style=\"text-align: right;\">\n",
       "      <th></th>\n",
       "      <th>Unnamed: 0</th>\n",
       "      <th>Depmap ID</th>\n",
       "      <th>Cell Line</th>\n",
       "      <th>OncotreeCode</th>\n",
       "      <th>OncotreeSubtype</th>\n",
       "      <th>OncotreePrimaryDisease</th>\n",
       "      <th>OncotreeLineage</th>\n",
       "      <th>BRAF_mut</th>\n",
       "      <th>NRAS_mut</th>\n",
       "      <th>PrimaryorMetastasis</th>\n",
       "    </tr>\n",
       "  </thead>\n",
       "  <tbody>\n",
       "    <tr>\n",
       "      <th>0</th>\n",
       "      <td>A101D</td>\n",
       "      <td>ACH-000008</td>\n",
       "      <td>A101D</td>\n",
       "      <td>MEL</td>\n",
       "      <td>Melanoma</td>\n",
       "      <td>Melanoma</td>\n",
       "      <td>Skin</td>\n",
       "      <td>p.V600E</td>\n",
       "      <td>NaN</td>\n",
       "      <td>Primary</td>\n",
       "    </tr>\n",
       "    <tr>\n",
       "      <th>1</th>\n",
       "      <td>A375</td>\n",
       "      <td>ACH-000219</td>\n",
       "      <td>A375</td>\n",
       "      <td>MEL</td>\n",
       "      <td>Melanoma</td>\n",
       "      <td>Melanoma</td>\n",
       "      <td>Skin</td>\n",
       "      <td>p.V600E</td>\n",
       "      <td>NaN</td>\n",
       "      <td>Primary</td>\n",
       "    </tr>\n",
       "    <tr>\n",
       "      <th>2</th>\n",
       "      <td>COLO794</td>\n",
       "      <td>ACH-001339</td>\n",
       "      <td>COLO794</td>\n",
       "      <td>SKCM</td>\n",
       "      <td>Cutaneous Melanoma</td>\n",
       "      <td>Melanoma</td>\n",
       "      <td>Skin</td>\n",
       "      <td>p.V600E</td>\n",
       "      <td>NaN</td>\n",
       "      <td>Primary</td>\n",
       "    </tr>\n",
       "    <tr>\n",
       "      <th>3</th>\n",
       "      <td>COLO829</td>\n",
       "      <td>ACH-000644</td>\n",
       "      <td>COLO829</td>\n",
       "      <td>SKCM</td>\n",
       "      <td>Cutaneous Melanoma</td>\n",
       "      <td>Melanoma</td>\n",
       "      <td>Skin</td>\n",
       "      <td>p.V600E</td>\n",
       "      <td>NaN</td>\n",
       "      <td>Primary</td>\n",
       "    </tr>\n",
       "    <tr>\n",
       "      <th>4</th>\n",
       "      <td>CP50MELB</td>\n",
       "      <td>ACH-002096</td>\n",
       "      <td>CP50MELB</td>\n",
       "      <td>MEL</td>\n",
       "      <td>Melanoma</td>\n",
       "      <td>Melanoma</td>\n",
       "      <td>Skin</td>\n",
       "      <td>p.V600E</td>\n",
       "      <td>NaN</td>\n",
       "      <td>Primary</td>\n",
       "    </tr>\n",
       "  </tbody>\n",
       "</table>\n",
       "</div>"
      ],
      "text/plain": [
       "  Unnamed: 0   Depmap ID Cell Line OncotreeCode     OncotreeSubtype  \\\n",
       "0      A101D  ACH-000008     A101D          MEL            Melanoma   \n",
       "1       A375  ACH-000219      A375          MEL            Melanoma   \n",
       "2    COLO794  ACH-001339   COLO794         SKCM  Cutaneous Melanoma   \n",
       "3    COLO829  ACH-000644   COLO829         SKCM  Cutaneous Melanoma   \n",
       "4   CP50MELB  ACH-002096  CP50MELB          MEL            Melanoma   \n",
       "\n",
       "  OncotreePrimaryDisease OncotreeLineage BRAF_mut NRAS_mut PrimaryorMetastasis  \n",
       "0               Melanoma            Skin  p.V600E      NaN             Primary  \n",
       "1               Melanoma            Skin  p.V600E      NaN             Primary  \n",
       "2               Melanoma            Skin  p.V600E      NaN             Primary  \n",
       "3               Melanoma            Skin  p.V600E      NaN             Primary  \n",
       "4               Melanoma            Skin  p.V600E      NaN             Primary  "
      ]
     },
     "execution_count": 66,
     "metadata": {},
     "output_type": "execute_result"
    }
   ],
   "source": [
    "cells_df.head(5)"
   ]
  },
  {
   "cell_type": "code",
   "execution_count": 67,
   "metadata": {},
   "outputs": [
    {
     "name": "stdout",
     "output_type": "stream",
     "text": [
      "(60, 6)\n"
     ]
    },
    {
     "data": {
      "text/html": [
       "<div>\n",
       "<style scoped>\n",
       "    .dataframe tbody tr th:only-of-type {\n",
       "        vertical-align: middle;\n",
       "    }\n",
       "\n",
       "    .dataframe tbody tr th {\n",
       "        vertical-align: top;\n",
       "    }\n",
       "\n",
       "    .dataframe thead th {\n",
       "        text-align: right;\n",
       "    }\n",
       "</style>\n",
       "<table border=\"1\" class=\"dataframe\">\n",
       "  <thead>\n",
       "    <tr style=\"text-align: right;\">\n",
       "      <th></th>\n",
       "      <th>Unnamed: 0</th>\n",
       "      <th>CellLine</th>\n",
       "      <th>OncotreeCode</th>\n",
       "      <th>OncotreeSubtype</th>\n",
       "      <th>OncotreePrimaryDisease</th>\n",
       "      <th>OncotreeLineage</th>\n",
       "    </tr>\n",
       "  </thead>\n",
       "  <tbody>\n",
       "    <tr>\n",
       "      <th>0</th>\n",
       "      <td>0</td>\n",
       "      <td>WM983B</td>\n",
       "      <td>MEL</td>\n",
       "      <td>Melanoma</td>\n",
       "      <td>Melanoma</td>\n",
       "      <td>Skin</td>\n",
       "    </tr>\n",
       "    <tr>\n",
       "      <th>1</th>\n",
       "      <td>1</td>\n",
       "      <td>IGR39</td>\n",
       "      <td>MEL</td>\n",
       "      <td>Melanoma</td>\n",
       "      <td>Melanoma</td>\n",
       "      <td>Skin</td>\n",
       "    </tr>\n",
       "    <tr>\n",
       "      <th>2</th>\n",
       "      <td>2</td>\n",
       "      <td>HT144</td>\n",
       "      <td>MEL</td>\n",
       "      <td>Melanoma</td>\n",
       "      <td>Melanoma</td>\n",
       "      <td>Skin</td>\n",
       "    </tr>\n",
       "    <tr>\n",
       "      <th>3</th>\n",
       "      <td>3</td>\n",
       "      <td>WM3211</td>\n",
       "      <td>ACRM</td>\n",
       "      <td>Acral Melanoma</td>\n",
       "      <td>Melanoma</td>\n",
       "      <td>Skin</td>\n",
       "    </tr>\n",
       "    <tr>\n",
       "      <th>4</th>\n",
       "      <td>4</td>\n",
       "      <td>HS944T</td>\n",
       "      <td>SKCM</td>\n",
       "      <td>Cutaneous Melanoma</td>\n",
       "      <td>Melanoma</td>\n",
       "      <td>Skin</td>\n",
       "    </tr>\n",
       "  </tbody>\n",
       "</table>\n",
       "</div>"
      ],
      "text/plain": [
       "   Unnamed: 0 CellLine OncotreeCode     OncotreeSubtype  \\\n",
       "0           0   WM983B          MEL            Melanoma   \n",
       "1           1    IGR39          MEL            Melanoma   \n",
       "2           2    HT144          MEL            Melanoma   \n",
       "3           3   WM3211         ACRM      Acral Melanoma   \n",
       "4           4   HS944T         SKCM  Cutaneous Melanoma   \n",
       "\n",
       "  OncotreePrimaryDisease OncotreeLineage  \n",
       "0               Melanoma            Skin  \n",
       "1               Melanoma            Skin  \n",
       "2               Melanoma            Skin  \n",
       "3               Melanoma            Skin  \n",
       "4               Melanoma            Skin  "
      ]
     },
     "execution_count": 67,
     "metadata": {},
     "output_type": "execute_result"
    }
   ],
   "source": [
    "# DepMap Melanome Cell Lines\n",
    "depmap_cells_df = pd.read_csv(\"Depmap Melanoma Cells.csv\")\n",
    "print(depmap_cells_df.shape)\n",
    "depmap_cells_df.head(5)"
   ]
  },
  {
   "attachments": {},
   "cell_type": "markdown",
   "metadata": {},
   "source": [
    "### ID Matching\n",
    "\n",
    "* 60 Cell Lines match in both, limited by gene dependency data"
   ]
  },
  {
   "cell_type": "code",
   "execution_count": 68,
   "metadata": {},
   "outputs": [
    {
     "name": "stdout",
     "output_type": "stream",
     "text": [
      "(1003, 36648)\n"
     ]
    }
   ],
   "source": [
    "# Matches mRNA_df and gene_dependency_df\n",
    "# SWAP THIS TO RUN GENE EFFECT\n",
    "matches_df = pd.merge(mRNA_df, gene_effect_df, left_on='Depmap ID', right_on = 'Unnamed: 0', how='inner')\n",
    "print(matches_df.shape)"
   ]
  },
  {
   "cell_type": "code",
   "execution_count": 69,
   "metadata": {},
   "outputs": [
    {
     "name": "stdout",
     "output_type": "stream",
     "text": [
      "(41, 36657)\n"
     ]
    }
   ],
   "source": [
    "# Matches matches_df and cells_df\n",
    "cell_matches_df = pd.merge(matches_df, cells_df, left_on='Depmap ID', right_on = 'Depmap ID', how='inner')\n",
    "print(cell_matches_df.shape)"
   ]
  },
  {
   "attachments": {},
   "cell_type": "markdown",
   "metadata": {},
   "source": [
    "### Save Cell Matches"
   ]
  },
  {
   "attachments": {},
   "cell_type": "markdown",
   "metadata": {},
   "source": [
    "#### Preprocessing"
   ]
  },
  {
   "cell_type": "code",
   "execution_count": 70,
   "metadata": {},
   "outputs": [
    {
     "name": "stdout",
     "output_type": "stream",
     "text": [
      "(41, 19194)\n",
      "(41, 17932)\n",
      "(41, 17454)\n"
     ]
    }
   ],
   "source": [
    "# Index into mRNA by list(cell_matches_df['Depmap ID'])\n",
    "depmap_mRNA_df = mRNA_df[mRNA_df['Depmap ID'].isin(cell_matches_df['Depmap ID'])]\n",
    "print(depmap_mRNA_df.shape)\n",
    "\n",
    "# Index into gene_dependency by list(cell_matches_df['Depmap ID'])\n",
    "depmap_gene_dependency_df = gene_dependency_df[gene_dependency_df['ModelID'].isin(cell_matches_df['Depmap ID'])]\n",
    "print(depmap_gene_dependency_df.shape)\n",
    "\n",
    "# Index into gene_effect by list(cell_matches_df['Depmap ID'])\n",
    "depmap_gene_effect_df = gene_effect_df[gene_effect_df['Unnamed: 0'].isin(cell_matches_df['Depmap ID'])]\n",
    "print(depmap_gene_effect_df.shape)"
   ]
  },
  {
   "cell_type": "code",
   "execution_count": 71,
   "metadata": {},
   "outputs": [
    {
     "name": "stderr",
     "output_type": "stream",
     "text": [
      "C:\\Users\\commo\\AppData\\Local\\Temp\\ipykernel_19556\\4228931511.py:2: FutureWarning: The default value of regex will change from True to False in a future version.\n",
      "  depmap_gene_dependency_df.columns = depmap_gene_dependency_df.columns.str.replace(r\" \\(.*\\)\",\"\")\n",
      "C:\\Users\\commo\\AppData\\Local\\Temp\\ipykernel_19556\\4228931511.py:3: FutureWarning: The default value of regex will change from True to False in a future version.\n",
      "  depmap_mRNA_df.columns = depmap_mRNA_df.columns.str.replace(r\" \\(.*\\)\",\"\")\n",
      "C:\\Users\\commo\\AppData\\Local\\Temp\\ipykernel_19556\\4228931511.py:4: FutureWarning: The default value of regex will change from True to False in a future version.\n",
      "  depmap_gene_effect_df.columns = depmap_gene_effect_df.columns.str.replace(r\" \\(.*\\)\",\"\")\n"
     ]
    }
   ],
   "source": [
    "# Remove (xxxx) from columns\n",
    "depmap_gene_dependency_df.columns = depmap_gene_dependency_df.columns.str.replace(r\" \\(.*\\)\",\"\")\n",
    "depmap_mRNA_df.columns = depmap_mRNA_df.columns.str.replace(r\" \\(.*\\)\",\"\")\n",
    "depmap_gene_effect_df.columns = depmap_gene_effect_df.columns.str.replace(r\" \\(.*\\)\",\"\")\n"
   ]
  },
  {
   "cell_type": "code",
   "execution_count": 72,
   "metadata": {},
   "outputs": [
    {
     "name": "stderr",
     "output_type": "stream",
     "text": [
      "C:\\Users\\commo\\AppData\\Local\\Temp\\ipykernel_19556\\2284282931.py:5: SettingWithCopyWarning: \n",
      "A value is trying to be set on a copy of a slice from a DataFrame.\n",
      "Try using .loc[row_indexer,col_indexer] = value instead\n",
      "\n",
      "See the caveats in the documentation: https://pandas.pydata.org/pandas-docs/stable/user_guide/indexing.html#returning-a-view-versus-a-copy\n",
      "  depmap_gene_dependency_df['ModelID'] = depmap_gene_dependency_df['ModelID'].map(id_cell_dict)\n",
      "C:\\Users\\commo\\AppData\\Local\\Temp\\ipykernel_19556\\2284282931.py:6: SettingWithCopyWarning: \n",
      "A value is trying to be set on a copy of a slice from a DataFrame.\n",
      "Try using .loc[row_indexer,col_indexer] = value instead\n",
      "\n",
      "See the caveats in the documentation: https://pandas.pydata.org/pandas-docs/stable/user_guide/indexing.html#returning-a-view-versus-a-copy\n",
      "  depmap_mRNA_df['Depmap ID'] = depmap_mRNA_df['Depmap ID'].map(id_cell_dict)\n",
      "C:\\Users\\commo\\AppData\\Local\\Temp\\ipykernel_19556\\2284282931.py:7: SettingWithCopyWarning: \n",
      "A value is trying to be set on a copy of a slice from a DataFrame.\n",
      "Try using .loc[row_indexer,col_indexer] = value instead\n",
      "\n",
      "See the caveats in the documentation: https://pandas.pydata.org/pandas-docs/stable/user_guide/indexing.html#returning-a-view-versus-a-copy\n",
      "  depmap_gene_effect_df['Unnamed: 0'] = depmap_gene_effect_df['Unnamed: 0'].map(id_cell_dict)\n"
     ]
    }
   ],
   "source": [
    "# Remap Depmap ID to Cell Line Name with depmap_cells_df as a dictionary\n",
    "id_cell_dict = dict(zip(cells_df['Depmap ID'], cells_df['Cell Line']))\n",
    "\n",
    "# Remap Depmap ID to Cell Line Name with depmap_cells_df as a dictionary\n",
    "depmap_gene_dependency_df['ModelID'] = depmap_gene_dependency_df['ModelID'].map(id_cell_dict)\n",
    "depmap_mRNA_df['Depmap ID'] = depmap_mRNA_df['Depmap ID'].map(id_cell_dict)\n",
    "depmap_gene_effect_df['Unnamed: 0'] = depmap_gene_effect_df['Unnamed: 0'].map(id_cell_dict)"
   ]
  },
  {
   "cell_type": "code",
   "execution_count": 73,
   "metadata": {},
   "outputs": [],
   "source": [
    "# Index to retrieve cell metadata\n",
    "depmap_cells_df = cell_matches_df.iloc[:, len(cell_matches_df.columns)-8:]"
   ]
  },
  {
   "cell_type": "code",
   "execution_count": 74,
   "metadata": {},
   "outputs": [
    {
     "name": "stderr",
     "output_type": "stream",
     "text": [
      "C:\\Users\\commo\\AppData\\Local\\Temp\\ipykernel_19556\\710923112.py:2: SettingWithCopyWarning: \n",
      "A value is trying to be set on a copy of a slice from a DataFrame\n",
      "\n",
      "See the caveats in the documentation: https://pandas.pydata.org/pandas-docs/stable/user_guide/indexing.html#returning-a-view-versus-a-copy\n",
      "  depmap_gene_dependency_df.sort_values(by=['ModelID'], inplace=True)\n",
      "C:\\Users\\commo\\AppData\\Local\\Temp\\ipykernel_19556\\710923112.py:3: SettingWithCopyWarning: \n",
      "A value is trying to be set on a copy of a slice from a DataFrame\n",
      "\n",
      "See the caveats in the documentation: https://pandas.pydata.org/pandas-docs/stable/user_guide/indexing.html#returning-a-view-versus-a-copy\n",
      "  depmap_mRNA_df.sort_values(by=['Depmap ID'], inplace=True)\n",
      "C:\\Users\\commo\\AppData\\Local\\Temp\\ipykernel_19556\\710923112.py:4: SettingWithCopyWarning: \n",
      "A value is trying to be set on a copy of a slice from a DataFrame\n",
      "\n",
      "See the caveats in the documentation: https://pandas.pydata.org/pandas-docs/stable/user_guide/indexing.html#returning-a-view-versus-a-copy\n",
      "  depmap_gene_effect_df.sort_values(by=['Unnamed: 0'], inplace=True)\n",
      "C:\\Users\\commo\\AppData\\Local\\Temp\\ipykernel_19556\\710923112.py:8: SettingWithCopyWarning: \n",
      "A value is trying to be set on a copy of a slice from a DataFrame\n",
      "\n",
      "See the caveats in the documentation: https://pandas.pydata.org/pandas-docs/stable/user_guide/indexing.html#returning-a-view-versus-a-copy\n",
      "  depmap_gene_dependency_df.rename(columns={'ModelID':'Cell Line'}, inplace=True)\n",
      "C:\\Users\\commo\\AppData\\Local\\Temp\\ipykernel_19556\\710923112.py:9: SettingWithCopyWarning: \n",
      "A value is trying to be set on a copy of a slice from a DataFrame\n",
      "\n",
      "See the caveats in the documentation: https://pandas.pydata.org/pandas-docs/stable/user_guide/indexing.html#returning-a-view-versus-a-copy\n",
      "  depmap_mRNA_df.rename(columns={'Depmap ID':'Cell Line'}, inplace=True)\n",
      "C:\\Users\\commo\\AppData\\Local\\Temp\\ipykernel_19556\\710923112.py:10: SettingWithCopyWarning: \n",
      "A value is trying to be set on a copy of a slice from a DataFrame\n",
      "\n",
      "See the caveats in the documentation: https://pandas.pydata.org/pandas-docs/stable/user_guide/indexing.html#returning-a-view-versus-a-copy\n",
      "  depmap_gene_effect_df.rename(columns={'Unnamed: 0':'Cell Line'}, inplace=True)\n"
     ]
    }
   ],
   "source": [
    "# Sort by Cell Line Name\n",
    "depmap_gene_dependency_df.sort_values(by=['ModelID'], inplace=True)\n",
    "depmap_mRNA_df.sort_values(by=['Depmap ID'], inplace=True)\n",
    "depmap_gene_effect_df.sort_values(by=['Unnamed: 0'], inplace=True)\n",
    "depmap_cells_df.sort_values(by=['Cell Line'], inplace=True)\n",
    "\n",
    "# Rename Columns\n",
    "depmap_gene_dependency_df.rename(columns={'ModelID':'Cell Line'}, inplace=True)\n",
    "depmap_mRNA_df.rename(columns={'Depmap ID':'Cell Line'}, inplace=True)\n",
    "depmap_gene_effect_df.rename(columns={'Unnamed: 0':'Cell Line'}, inplace=True)\n"
   ]
  },
  {
   "attachments": {},
   "cell_type": "markdown",
   "metadata": {},
   "source": [
    "#### Saves"
   ]
  },
  {
   "cell_type": "code",
   "execution_count": 80,
   "metadata": {},
   "outputs": [
    {
     "data": {
      "text/plain": [
       "(41, 17454)"
      ]
     },
     "execution_count": 80,
     "metadata": {},
     "output_type": "execute_result"
    }
   ],
   "source": []
  },
  {
   "cell_type": "code",
   "execution_count": 75,
   "metadata": {},
   "outputs": [],
   "source": [
    "# Save to CSV\n",
    "depmap_cells_df.to_csv('Depmap Melanoma Cells.csv')\n",
    "depmap_gene_dependency_df.to_csv('Depmap Melanoma Gene Dependency.csv')\n",
    "depmap_mRNA_df.to_csv('Depmap Melanoma mRNA.csv')\n"
   ]
  },
  {
   "cell_type": "code",
   "execution_count": 76,
   "metadata": {},
   "outputs": [],
   "source": [
    "depmap_gene_effect_df.to_csv('Depmap Melanoma Gene Effect.csv')"
   ]
  }
 ],
 "metadata": {
  "kernelspec": {
   "display_name": "Python 3",
   "language": "python",
   "name": "python3"
  },
  "language_info": {
   "codemirror_mode": {
    "name": "ipython",
    "version": 3
   },
   "file_extension": ".py",
   "mimetype": "text/x-python",
   "name": "python",
   "nbconvert_exporter": "python",
   "pygments_lexer": "ipython3",
   "version": "3.10.8"
  },
  "orig_nbformat": 4
 },
 "nbformat": 4,
 "nbformat_minor": 2
}
