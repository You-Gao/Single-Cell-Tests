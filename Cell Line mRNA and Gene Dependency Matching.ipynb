{
 "cells": [
  {
   "cell_type": "code",
   "execution_count": 20,
   "metadata": {},
   "outputs": [],
   "source": [
    "import pandas as pd "
   ]
  },
  {
   "attachments": {},
   "cell_type": "markdown",
   "metadata": {},
   "source": [
    "### Data\n",
    "* mRNA_df (1408, 19194) | OmicsExpressionProteinCodingGenesTPMLogp1.csv\n",
    "    * Depmap ID\n",
    "* gene_dependency_df (1095, 17932) | CRISPRGeneDependency.csv\n",
    "    * ModelID\n",
    "* cells_df (103, 6) | Depmap Melanoma Cell Lines.csv\n",
    "    * Depmap Id"
   ]
  },
  {
   "cell_type": "code",
   "execution_count": 88,
   "metadata": {},
   "outputs": [
    {
     "name": "stdout",
     "output_type": "stream",
     "text": [
      "(1408, 19194)\n"
     ]
    }
   ],
   "source": [
    "# mRNA\n",
    "mRNA_df = pd.read_csv(r'C:\\Users\\commo\\OneDrive - University of Virginia\\School\\STEM\\BME\\BME 4700 - Systems Bioengineering\\CCLE Chromatin Analysis\\Raw Data\\OmicsExpressionProteinCodingGenesTPMLogp1.csv')\n",
    "print(mRNA_df.shape)\n"
   ]
  },
  {
   "cell_type": "code",
   "execution_count": 8,
   "metadata": {},
   "outputs": [
    {
     "name": "stdout",
     "output_type": "stream",
     "text": [
      "(1095, 17932)\n"
     ]
    }
   ],
   "source": [
    "# Gene Dependency\n",
    "gene_dependency_df = pd.read_csv(r'C:\\Users\\commo\\OneDrive - University of Virginia\\School\\STEM\\BME\\BME 4700 - Systems Bioengineering\\CCLE Chromatin Analysis\\Raw Data\\CRISPRGeneDependency.csv')\n",
    "print(gene_dependency_df.shape)\n"
   ]
  },
  {
   "cell_type": "code",
   "execution_count": 12,
   "metadata": {},
   "outputs": [
    {
     "name": "stdout",
     "output_type": "stream",
     "text": [
      "(103, 6)\n"
     ]
    }
   ],
   "source": [
    "# DepMap Melanome Cell Lines\n",
    "cells_df = pd.read_csv(r'C:\\Users\\commo\\OneDrive - University of Virginia\\School\\STEM\\BME\\BME 4700 - Systems Bioengineering\\CCLE Chromatin Analysis\\Raw Data\\Depmap Melanoma Cell Lines.csv')\n",
    "cells_df.drop(columns=['Unnamed: 0'], inplace=True)\n",
    "print(cells_df.shape)\n"
   ]
  },
  {
   "attachments": {},
   "cell_type": "markdown",
   "metadata": {},
   "source": [
    "### ID Matching\n",
    "\n",
    "* 60 Cell Lines match in both, limited by gene dependency data"
   ]
  },
  {
   "cell_type": "code",
   "execution_count": 19,
   "metadata": {},
   "outputs": [
    {
     "name": "stdout",
     "output_type": "stream",
     "text": [
      "(1001, 37126)\n"
     ]
    }
   ],
   "source": [
    "# Matches mRNA_df and gene_dependency_df\n",
    "matches_df = pd.merge(mRNA_df, gene_dependency_df, left_on='Depmap ID', right_on = 'ModelID', how='inner')\n",
    "print(matches_df.shape)"
   ]
  },
  {
   "cell_type": "code",
   "execution_count": 16,
   "metadata": {},
   "outputs": [
    {
     "name": "stdout",
     "output_type": "stream",
     "text": [
      "(60, 37132)\n"
     ]
    }
   ],
   "source": [
    "# Matches matches_df and cells_df\n",
    "cell_matches_df = pd.merge(matches_df, cells_df, left_on='Depmap ID', right_on = 'Depmap Id', how='inner')\n",
    "print(cell_matches_df.shape)"
   ]
  },
  {
   "attachments": {},
   "cell_type": "markdown",
   "metadata": {},
   "source": [
    "### Save Cell Matches"
   ]
  },
  {
   "attachments": {},
   "cell_type": "markdown",
   "metadata": {},
   "source": [
    "#### Preprocessing"
   ]
  },
  {
   "cell_type": "code",
   "execution_count": 37,
   "metadata": {},
   "outputs": [
    {
     "name": "stdout",
     "output_type": "stream",
     "text": [
      "(60, 19194)\n",
      "(60, 17932)\n"
     ]
    }
   ],
   "source": [
    "# Index into mRNA by list(cell_matches_df['Depmap ID'])\n",
    "depmap_mRNA_df = mRNA_df[mRNA_df['Depmap ID'].isin(cell_matches_df['Depmap ID'])]\n",
    "print(depmap_mRNA_df.shape)\n",
    "\n",
    "# Index into gene_dependency by list(cell_matches_df['Depmap ID'])\n",
    "depmap_gene_dependency_df = gene_dependency_df[gene_dependency_df['ModelID'].isin(cell_matches_df['Depmap ID'])]\n",
    "print(depmap_gene_dependency_df.shape)"
   ]
  },
  {
   "cell_type": "code",
   "execution_count": 39,
   "metadata": {},
   "outputs": [
    {
     "name": "stderr",
     "output_type": "stream",
     "text": [
      "C:\\Users\\commo\\AppData\\Local\\Temp\\ipykernel_22936\\881064277.py:2: FutureWarning: The default value of regex will change from True to False in a future version.\n",
      "  depmap_gene_dependency_df.columns = depmap_gene_dependency_df.columns.str.replace(r\" \\(.*\\)\",\"\")\n",
      "C:\\Users\\commo\\AppData\\Local\\Temp\\ipykernel_22936\\881064277.py:3: FutureWarning: The default value of regex will change from True to False in a future version.\n",
      "  depmap_mRNA_df.columns = depmap_mRNA_df.columns.str.replace(r\" \\(.*\\)\",\"\")\n"
     ]
    }
   ],
   "source": [
    "# Remove (xxxx) from columns\n",
    "depmap_gene_dependency_df.columns = depmap_gene_dependency_df.columns.str.replace(r\" \\(.*\\)\",\"\")\n",
    "depmap_mRNA_df.columns = depmap_mRNA_df.columns.str.replace(r\" \\(.*\\)\",\"\")\n"
   ]
  },
  {
   "cell_type": "code",
   "execution_count": 69,
   "metadata": {},
   "outputs": [
    {
     "name": "stderr",
     "output_type": "stream",
     "text": [
      "C:\\Users\\commo\\AppData\\Local\\Temp\\ipykernel_22936\\1094932552.py:5: SettingWithCopyWarning: \n",
      "A value is trying to be set on a copy of a slice from a DataFrame.\n",
      "Try using .loc[row_indexer,col_indexer] = value instead\n",
      "\n",
      "See the caveats in the documentation: https://pandas.pydata.org/pandas-docs/stable/user_guide/indexing.html#returning-a-view-versus-a-copy\n",
      "  depmap_gene_dependency_df['ModelID'] = depmap_gene_dependency_df['ModelID'].map(id_cell_dict)\n"
     ]
    }
   ],
   "source": [
    "# Remap Depmap ID to Cell Line Name with depmap_cells_df as a dictionary\n",
    "id_cell_dict = dict(zip(cells_df['Depmap Id'], cells_df['Cell Line']))\n",
    "\n",
    "# Remap Depmap ID to Cell Line Name with depmap_cells_df as a dictionary\n",
    "depmap_gene_dependency_df['ModelID'] = depmap_gene_dependency_df['ModelID'].map(id_cell_dict)\n",
    "depmap_mRNA_df['Depmap ID'] = depmap_mRNA_df['Depmap ID'].map(id_cell_dict)"
   ]
  },
  {
   "cell_type": "code",
   "execution_count": 62,
   "metadata": {},
   "outputs": [],
   "source": [
    "# Index to retrieve cell metadata\n",
    "depmap_cells_df = cell_matches_df.iloc[:, len(cell_matches_df.columns)-5:]"
   ]
  },
  {
   "cell_type": "code",
   "execution_count": 72,
   "metadata": {},
   "outputs": [
    {
     "name": "stderr",
     "output_type": "stream",
     "text": [
      "C:\\Users\\commo\\AppData\\Local\\Temp\\ipykernel_22936\\1118756077.py:2: SettingWithCopyWarning: \n",
      "A value is trying to be set on a copy of a slice from a DataFrame\n",
      "\n",
      "See the caveats in the documentation: https://pandas.pydata.org/pandas-docs/stable/user_guide/indexing.html#returning-a-view-versus-a-copy\n",
      "  depmap_gene_dependency_df.sort_values(by=['ModelID'], inplace=True)\n",
      "C:\\Users\\commo\\AppData\\Local\\Temp\\ipykernel_22936\\1118756077.py:7: SettingWithCopyWarning: \n",
      "A value is trying to be set on a copy of a slice from a DataFrame\n",
      "\n",
      "See the caveats in the documentation: https://pandas.pydata.org/pandas-docs/stable/user_guide/indexing.html#returning-a-view-versus-a-copy\n",
      "  depmap_gene_dependency_df.rename(columns={'ModelID':'Cell Line'}, inplace=True)\n"
     ]
    }
   ],
   "source": [
    "# Sort by Cell Line Name\n",
    "depmap_gene_dependency_df.sort_values(by=['ModelID'], inplace=True)\n",
    "depmap_mRNA_df.sort_values(by=['Depmap ID'], inplace=True)\n",
    "depmap_cells_df.sort_values(by=['Cell Line'], inplace=True)\n",
    "\n",
    "# Rename Columns\n",
    "depmap_gene_dependency_df.rename(columns={'ModelID':'Cell Line'}, inplace=True)\n",
    "depmap_mRNA_df.rename(columns={'Depmap ID':'Cell Line'}, inplace=True)\n"
   ]
  },
  {
   "cell_type": "code",
   "execution_count": 89,
   "metadata": {},
   "outputs": [
    {
     "name": "stderr",
     "output_type": "stream",
     "text": [
      "C:\\Users\\commo\\AppData\\Local\\Temp\\ipykernel_22936\\99317108.py:1: FutureWarning: The default value of regex will change from True to False in a future version.\n",
      "  mRNA_df.columns = depmap_mRNA_df.columns.str.replace(r\" \\(.*\\)\",\"\")\n"
     ]
    }
   ],
   "source": [
    "mRNA_df.columns = depmap_mRNA_df.columns.str.replace(r\" \\(.*\\)\",\"\")\n"
   ]
  },
  {
   "cell_type": "code",
   "execution_count": 91,
   "metadata": {},
   "outputs": [],
   "source": [
    "mRNA_df[1:].to_csv('Depmap Pancancer mRNA.csv')"
   ]
  },
  {
   "attachments": {},
   "cell_type": "markdown",
   "metadata": {},
   "source": [
    "#### Saves"
   ]
  },
  {
   "cell_type": "code",
   "execution_count": 83,
   "metadata": {},
   "outputs": [],
   "source": [
    "# Save to CSV\n",
    "depmap_cells_df.to_csv('Depmap Melanoma Cells.csv')\n",
    "depmap_gene_dependency_df.to_csv('Depmap Melanoma Gene Dependency.csv')\n",
    "depmap_mRNA_df.to_csv('Depmap Melanoma mRNA.csv')"
   ]
  }
 ],
 "metadata": {
  "kernelspec": {
   "display_name": "Python 3",
   "language": "python",
   "name": "python3"
  },
  "language_info": {
   "codemirror_mode": {
    "name": "ipython",
    "version": 3
   },
   "file_extension": ".py",
   "mimetype": "text/x-python",
   "name": "python",
   "nbconvert_exporter": "python",
   "pygments_lexer": "ipython3",
   "version": "3.10.8"
  },
  "orig_nbformat": 4
 },
 "nbformat": 4,
 "nbformat_minor": 2
}
